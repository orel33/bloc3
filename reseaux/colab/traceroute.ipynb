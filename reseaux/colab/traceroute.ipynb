{
  "nbformat": 4,
  "nbformat_minor": 0,
  "metadata": {
    "colab": {
      "name": "traceroute.ipynb",
      "provenance": [],
      "collapsed_sections": [],
      "include_colab_link": true
    },
    "kernelspec": {
      "name": "python3",
      "display_name": "Python 3"
    }
  },
  "cells": [
    {
      "cell_type": "markdown",
      "metadata": {
        "id": "view-in-github",
        "colab_type": "text"
      },
      "source": [
        "<a href=\"https://colab.research.google.com/github/orel33/bloc3/blob/master/reseaux/colab/traceroute.ipynb\" target=\"_parent\"><img src=\"https://colab.research.google.com/assets/colab-badge.svg\" alt=\"Open In Colab\"/></a>"
      ]
    },
    {
      "cell_type": "markdown",
      "metadata": {
        "id": "RshF1sUCcAWa",
        "colab_type": "text"
      },
      "source": [
        "# Traceroute\n",
        "\n",
        "Comment trouver son chemin sur le réseau Internet ?\n",
        "\n",
        "## Prérequis"
      ]
    },
    {
      "cell_type": "code",
      "metadata": {
        "id": "1n6kBUEm2W1b",
        "colab_type": "code",
        "outputId": "127e45df-d2b6-4858-d059-4e943c0ff0a7",
        "colab": {
          "base_uri": "https://localhost:8080/",
          "height": 1000
        }
      },
      "source": [
        "! apt-get -q -y install net-tools        # ifconfig \n",
        "! apt-get -q -y install dnsutils         # nslookup\n",
        "! apt-get -q -y install traceroute       # traceroute\n",
        "! apt-get -q -y install python3-scapy    # scapy"
      ],
      "execution_count": 1,
      "outputs": [
        {
          "output_type": "stream",
          "text": [
            "Reading package lists...\n",
            "Building dependency tree...\n",
            "Reading state information...\n",
            "The following NEW packages will be installed:\n",
            "  net-tools\n",
            "0 upgraded, 1 newly installed, 0 to remove and 35 not upgraded.\n",
            "Need to get 194 kB of archives.\n",
            "After this operation, 803 kB of additional disk space will be used.\n",
            "Get:1 http://archive.ubuntu.com/ubuntu bionic/main amd64 net-tools amd64 1.60+git20161116.90da8a0-1ubuntu1 [194 kB]\n",
            "Fetched 194 kB in 1s (199 kB/s)\n",
            "Selecting previously unselected package net-tools.\n",
            "(Reading database ... 132684 files and directories currently installed.)\n",
            "Preparing to unpack .../net-tools_1.60+git20161116.90da8a0-1ubuntu1_amd64.deb ...\n",
            "Unpacking net-tools (1.60+git20161116.90da8a0-1ubuntu1) ...\n",
            "Processing triggers for man-db (2.8.3-2ubuntu0.1) ...\n",
            "Setting up net-tools (1.60+git20161116.90da8a0-1ubuntu1) ...\n",
            "Reading package lists...\n",
            "Building dependency tree...\n",
            "Reading state information...\n",
            "The following additional packages will be installed:\n",
            "  bind9-host geoip-database libbind9-160 libdns1100 libgeoip1 libirs160\n",
            "  libisc169 libisccc160 libisccfg160 liblwres160\n",
            "Suggested packages:\n",
            "  rblcheck geoip-bin\n",
            "The following NEW packages will be installed:\n",
            "  bind9-host dnsutils geoip-database libbind9-160 libdns1100 libgeoip1\n",
            "  libirs160 libisc169 libisccc160 libisccfg160 liblwres160\n",
            "0 upgraded, 11 newly installed, 0 to remove and 35 not upgraded.\n",
            "Need to get 3,714 kB of archives.\n",
            "After this operation, 14.5 MB of additional disk space will be used.\n",
            "Get:1 http://archive.ubuntu.com/ubuntu bionic-updates/main amd64 libisc169 amd64 1:9.11.3+dfsg-1ubuntu1.10 [237 kB]\n",
            "Get:2 http://archive.ubuntu.com/ubuntu bionic/main amd64 libgeoip1 amd64 1.6.12-1 [71.8 kB]\n",
            "Get:3 http://archive.ubuntu.com/ubuntu bionic-updates/main amd64 libdns1100 amd64 1:9.11.3+dfsg-1ubuntu1.10 [968 kB]\n",
            "Get:4 http://archive.ubuntu.com/ubuntu bionic-updates/main amd64 libisccc160 amd64 1:9.11.3+dfsg-1ubuntu1.10 [17.9 kB]\n",
            "Get:5 http://archive.ubuntu.com/ubuntu bionic-updates/main amd64 libisccfg160 amd64 1:9.11.3+dfsg-1ubuntu1.10 [48.5 kB]\n",
            "Get:6 http://archive.ubuntu.com/ubuntu bionic-updates/main amd64 libbind9-160 amd64 1:9.11.3+dfsg-1ubuntu1.10 [27.6 kB]\n",
            "Get:7 http://archive.ubuntu.com/ubuntu bionic-updates/main amd64 liblwres160 amd64 1:9.11.3+dfsg-1ubuntu1.10 [34.5 kB]\n",
            "Get:8 http://archive.ubuntu.com/ubuntu bionic-updates/main amd64 bind9-host amd64 1:9.11.3+dfsg-1ubuntu1.10 [53.6 kB]\n",
            "Get:9 http://archive.ubuntu.com/ubuntu bionic-updates/main amd64 libirs160 amd64 1:9.11.3+dfsg-1ubuntu1.10 [19.1 kB]\n",
            "Get:10 http://archive.ubuntu.com/ubuntu bionic-updates/main amd64 dnsutils amd64 1:9.11.3+dfsg-1ubuntu1.10 [145 kB]\n",
            "Get:11 http://archive.ubuntu.com/ubuntu bionic/main amd64 geoip-database all 20180315-1 [2,090 kB]\n",
            "Fetched 3,714 kB in 12s (301 kB/s)\n",
            "Selecting previously unselected package libisc169:amd64.\n",
            "(Reading database ... 132732 files and directories currently installed.)\n",
            "Preparing to unpack .../00-libisc169_1%3a9.11.3+dfsg-1ubuntu1.10_amd64.deb ...\n",
            "Unpacking libisc169:amd64 (1:9.11.3+dfsg-1ubuntu1.10) ...\n",
            "Selecting previously unselected package libgeoip1:amd64.\n",
            "Preparing to unpack .../01-libgeoip1_1.6.12-1_amd64.deb ...\n",
            "Unpacking libgeoip1:amd64 (1.6.12-1) ...\n",
            "Selecting previously unselected package libdns1100:amd64.\n",
            "Preparing to unpack .../02-libdns1100_1%3a9.11.3+dfsg-1ubuntu1.10_amd64.deb ...\n",
            "Unpacking libdns1100:amd64 (1:9.11.3+dfsg-1ubuntu1.10) ...\n",
            "Selecting previously unselected package libisccc160:amd64.\n",
            "Preparing to unpack .../03-libisccc160_1%3a9.11.3+dfsg-1ubuntu1.10_amd64.deb ...\n",
            "Unpacking libisccc160:amd64 (1:9.11.3+dfsg-1ubuntu1.10) ...\n",
            "Selecting previously unselected package libisccfg160:amd64.\n",
            "Preparing to unpack .../04-libisccfg160_1%3a9.11.3+dfsg-1ubuntu1.10_amd64.deb ...\n",
            "Unpacking libisccfg160:amd64 (1:9.11.3+dfsg-1ubuntu1.10) ...\n",
            "Selecting previously unselected package libbind9-160:amd64.\n",
            "Preparing to unpack .../05-libbind9-160_1%3a9.11.3+dfsg-1ubuntu1.10_amd64.deb ...\n",
            "Unpacking libbind9-160:amd64 (1:9.11.3+dfsg-1ubuntu1.10) ...\n",
            "Selecting previously unselected package liblwres160:amd64.\n",
            "Preparing to unpack .../06-liblwres160_1%3a9.11.3+dfsg-1ubuntu1.10_amd64.deb ...\n",
            "Unpacking liblwres160:amd64 (1:9.11.3+dfsg-1ubuntu1.10) ...\n",
            "Selecting previously unselected package bind9-host.\n",
            "Preparing to unpack .../07-bind9-host_1%3a9.11.3+dfsg-1ubuntu1.10_amd64.deb ...\n",
            "Unpacking bind9-host (1:9.11.3+dfsg-1ubuntu1.10) ...\n",
            "Selecting previously unselected package libirs160:amd64.\n",
            "Preparing to unpack .../08-libirs160_1%3a9.11.3+dfsg-1ubuntu1.10_amd64.deb ...\n",
            "Unpacking libirs160:amd64 (1:9.11.3+dfsg-1ubuntu1.10) ...\n",
            "Selecting previously unselected package dnsutils.\n",
            "Preparing to unpack .../09-dnsutils_1%3a9.11.3+dfsg-1ubuntu1.10_amd64.deb ...\n",
            "Unpacking dnsutils (1:9.11.3+dfsg-1ubuntu1.10) ...\n",
            "Selecting previously unselected package geoip-database.\n",
            "Preparing to unpack .../10-geoip-database_20180315-1_all.deb ...\n",
            "Unpacking geoip-database (20180315-1) ...\n",
            "Setting up libisc169:amd64 (1:9.11.3+dfsg-1ubuntu1.10) ...\n",
            "Setting up libisccc160:amd64 (1:9.11.3+dfsg-1ubuntu1.10) ...\n",
            "Setting up geoip-database (20180315-1) ...\n",
            "Setting up libgeoip1:amd64 (1.6.12-1) ...\n",
            "Processing triggers for libc-bin (2.27-3ubuntu1) ...\n",
            "Processing triggers for man-db (2.8.3-2ubuntu0.1) ...\n",
            "Setting up libdns1100:amd64 (1:9.11.3+dfsg-1ubuntu1.10) ...\n",
            "Setting up liblwres160:amd64 (1:9.11.3+dfsg-1ubuntu1.10) ...\n",
            "Setting up libisccfg160:amd64 (1:9.11.3+dfsg-1ubuntu1.10) ...\n",
            "Setting up libirs160:amd64 (1:9.11.3+dfsg-1ubuntu1.10) ...\n",
            "Setting up libbind9-160:amd64 (1:9.11.3+dfsg-1ubuntu1.10) ...\n",
            "Setting up bind9-host (1:9.11.3+dfsg-1ubuntu1.10) ...\n",
            "Setting up dnsutils (1:9.11.3+dfsg-1ubuntu1.10) ...\n",
            "Processing triggers for libc-bin (2.27-3ubuntu1) ...\n",
            "Reading package lists...\n",
            "Building dependency tree...\n",
            "Reading state information...\n",
            "The following NEW packages will be installed:\n",
            "  traceroute\n",
            "0 upgraded, 1 newly installed, 0 to remove and 35 not upgraded.\n",
            "Need to get 45.4 kB of archives.\n",
            "After this operation, 152 kB of additional disk space will be used.\n",
            "Get:1 http://archive.ubuntu.com/ubuntu bionic/universe amd64 traceroute amd64 1:2.1.0-2 [45.4 kB]\n",
            "Fetched 45.4 kB in 0s (845 kB/s)\n",
            "Selecting previously unselected package traceroute.\n",
            "(Reading database ... 132804 files and directories currently installed.)\n",
            "Preparing to unpack .../traceroute_1%3a2.1.0-2_amd64.deb ...\n",
            "Unpacking traceroute (1:2.1.0-2) ...\n",
            "Processing triggers for man-db (2.8.3-2ubuntu0.1) ...\n",
            "Setting up traceroute (1:2.1.0-2) ...\n",
            "update-alternatives: using /usr/bin/traceroute.db to provide /usr/bin/traceroute (traceroute) in auto mode\n",
            "update-alternatives: using /usr/bin/traceroute6.db to provide /usr/bin/traceroute6 (traceroute6) in auto mode\n",
            "update-alternatives: using /usr/bin/lft.db to provide /usr/bin/lft (lft) in auto mode\n",
            "update-alternatives: using /usr/bin/traceproto.db to provide /usr/bin/traceproto (traceproto) in auto mode\n",
            "update-alternatives: using /usr/sbin/tcptraceroute.db to provide /usr/sbin/tcptraceroute (tcptraceroute) in auto mode\n",
            "Reading package lists...\n",
            "Building dependency tree...\n",
            "Reading state information...\n",
            "The following additional packages will be installed:\n",
            "  javascript-common libjs-sphinxdoc libjs-underscore libpcap0.8 tcpdump\n",
            "Suggested packages:\n",
            "  apache2 | lighttpd | httpd python3-matplotlib ipython3 apparmor\n",
            "The following NEW packages will be installed:\n",
            "  javascript-common libjs-sphinxdoc libjs-underscore libpcap0.8 python3-scapy\n",
            "  tcpdump\n",
            "0 upgraded, 6 newly installed, 0 to remove and 35 not upgraded.\n",
            "Need to get 1,545 kB of archives.\n",
            "After this operation, 5,501 kB of additional disk space will be used.\n",
            "Get:1 http://archive.ubuntu.com/ubuntu bionic/main amd64 libpcap0.8 amd64 1.8.1-6ubuntu1 [118 kB]\n",
            "Get:2 http://archive.ubuntu.com/ubuntu bionic/main amd64 tcpdump amd64 4.9.2-3 [387 kB]\n",
            "Get:3 http://archive.ubuntu.com/ubuntu bionic/main amd64 javascript-common all 11 [6,066 B]\n",
            "Get:4 http://archive.ubuntu.com/ubuntu bionic/main amd64 libjs-underscore all 1.8.3~dfsg-1 [59.9 kB]\n",
            "Get:5 http://archive.ubuntu.com/ubuntu bionic/main amd64 libjs-sphinxdoc all 1.6.7-1ubuntu1 [85.6 kB]\n",
            "Get:6 http://archive.ubuntu.com/ubuntu bionic/universe amd64 python3-scapy all 0.23-1 [889 kB]\n",
            "Fetched 1,545 kB in 17s (89.1 kB/s)\n",
            "Selecting previously unselected package libpcap0.8:amd64.\n",
            "(Reading database ... 132824 files and directories currently installed.)\n",
            "Preparing to unpack .../0-libpcap0.8_1.8.1-6ubuntu1_amd64.deb ...\n",
            "Unpacking libpcap0.8:amd64 (1.8.1-6ubuntu1) ...\n",
            "Selecting previously unselected package tcpdump.\n",
            "Preparing to unpack .../1-tcpdump_4.9.2-3_amd64.deb ...\n",
            "Unpacking tcpdump (4.9.2-3) ...\n",
            "Selecting previously unselected package javascript-common.\n",
            "Preparing to unpack .../2-javascript-common_11_all.deb ...\n",
            "Unpacking javascript-common (11) ...\n",
            "Selecting previously unselected package libjs-underscore.\n",
            "Preparing to unpack .../3-libjs-underscore_1.8.3~dfsg-1_all.deb ...\n",
            "Unpacking libjs-underscore (1.8.3~dfsg-1) ...\n",
            "Selecting previously unselected package libjs-sphinxdoc.\n",
            "Preparing to unpack .../4-libjs-sphinxdoc_1.6.7-1ubuntu1_all.deb ...\n",
            "Unpacking libjs-sphinxdoc (1.6.7-1ubuntu1) ...\n",
            "Selecting previously unselected package python3-scapy.\n",
            "Preparing to unpack .../5-python3-scapy_0.23-1_all.deb ...\n",
            "Unpacking python3-scapy (0.23-1) ...\n",
            "Setting up libjs-underscore (1.8.3~dfsg-1) ...\n",
            "Setting up libjs-sphinxdoc (1.6.7-1ubuntu1) ...\n",
            "Processing triggers for libc-bin (2.27-3ubuntu1) ...\n",
            "Processing triggers for man-db (2.8.3-2ubuntu0.1) ...\n",
            "Setting up javascript-common (11) ...\n",
            "Setting up libpcap0.8:amd64 (1.8.1-6ubuntu1) ...\n",
            "Setting up tcpdump (4.9.2-3) ...\n",
            "Setting up python3-scapy (0.23-1) ...\n",
            "Processing triggers for libc-bin (2.27-3ubuntu1) ...\n"
          ],
          "name": "stdout"
        }
      ]
    },
    {
      "cell_type": "markdown",
      "metadata": {
        "id": "heezwi7Jb714",
        "colab_type": "text"
      },
      "source": [
        "## Qui suis-je ?"
      ]
    },
    {
      "cell_type": "code",
      "metadata": {
        "id": "JjNQMOdeZ7ef",
        "colab_type": "code",
        "outputId": "dd01dcc3-e60b-44f1-bb56-61b6d06653c1",
        "colab": {
          "base_uri": "https://localhost:8080/",
          "height": 289
        }
      },
      "source": [
        "! ifconfig"
      ],
      "execution_count": 2,
      "outputs": [
        {
          "output_type": "stream",
          "text": [
            "eth0: flags=4163<UP,BROADCAST,RUNNING,MULTICAST>  mtu 1500\n",
            "        inet 172.28.0.2  netmask 255.255.0.0  broadcast 172.28.255.255\n",
            "        ether 02:42:ac:1c:00:02  txqueuelen 0  (Ethernet)\n",
            "        RX packets 2126  bytes 5820186 (5.8 MB)\n",
            "        RX errors 0  dropped 0  overruns 0  frame 0\n",
            "        TX packets 1977  bytes 330235 (330.2 KB)\n",
            "        TX errors 0  dropped 0 overruns 0  carrier 0  collisions 0\n",
            "\n",
            "lo: flags=73<UP,LOOPBACK,RUNNING>  mtu 65536\n",
            "        inet 127.0.0.1  netmask 255.0.0.0\n",
            "        loop  txqueuelen 1000  (Local Loopback)\n",
            "        RX packets 482  bytes 138426 (138.4 KB)\n",
            "        RX errors 0  dropped 0  overruns 0  frame 0\n",
            "        TX packets 482  bytes 138426 (138.4 KB)\n",
            "        TX errors 0  dropped 0 overruns 0  carrier 0  collisions 0\n",
            "\n"
          ],
          "name": "stdout"
        }
      ]
    },
    {
      "cell_type": "markdown",
      "metadata": {
        "id": "AZ2R4Dr5cOY2",
        "colab_type": "text"
      },
      "source": [
        "## Où vais-je ?\n",
        "\n",
        "Sur le serveur web : http://www.perdu.com\n"
      ]
    },
    {
      "cell_type": "code",
      "metadata": {
        "id": "oGVpk5wfZA17",
        "colab_type": "code",
        "outputId": "5fd3f3bc-71c9-4acd-93ba-88441bd21aea",
        "colab": {
          "base_uri": "https://localhost:8080/",
          "height": 136
        }
      },
      "source": [
        "! nslookup www.perdu.com"
      ],
      "execution_count": 3,
      "outputs": [
        {
          "output_type": "stream",
          "text": [
            "Server:\t\t127.0.0.11\n",
            "Address:\t127.0.0.11#53\n",
            "\n",
            "Non-authoritative answer:\n",
            "Name:\twww.perdu.com\n",
            "Address: 208.97.177.124\n",
            "\n"
          ],
          "name": "stdout"
        }
      ]
    },
    {
      "cell_type": "markdown",
      "metadata": {
        "id": "UV5GCkFYa1we",
        "colab_type": "text"
      },
      "source": [
        "## Traceroute (commande Unix)"
      ]
    },
    {
      "cell_type": "code",
      "metadata": {
        "id": "v9M-3eWV4mLa",
        "colab_type": "code",
        "outputId": "9aae7760-6c59-419f-ac32-f4a8d52a1908",
        "colab": {
          "base_uri": "https://localhost:8080/",
          "height": 238
        }
      },
      "source": [
        "! traceroute -I -4 -n www.perdu.com"
      ],
      "execution_count": 4,
      "outputs": [
        {
          "output_type": "stream",
          "text": [
            "traceroute to www.perdu.com (208.97.177.124), 30 hops max, 60 byte packets\n",
            " 1  172.28.0.1  0.032 ms  0.009 ms  0.007 ms\n",
            " 2  216.239.54.33  7.928 ms  8.007 ms  8.007 ms\n",
            " 3  209.85.252.4  13.654 ms  13.748 ms  13.809 ms\n",
            " 4  172.253.65.164  81.094 ms  81.155 ms  81.155 ms\n",
            " 5  216.239.56.16  82.273 ms  82.272 ms  82.274 ms\n",
            " 6  108.170.248.4  81.681 ms  81.648 ms  81.775 ms\n",
            " 7  205.197.230.37  81.774 ms  80.580 ms  80.500 ms\n",
            " 8  207.88.13.113  93.453 ms  88.222 ms  88.183 ms\n",
            " 9  209.48.43.58  88.629 ms  88.493 ms  88.470 ms\n",
            "10  208.113.156.4  90.186 ms  88.972 ms  89.068 ms\n",
            "11  208.113.156.14  89.908 ms  89.819 ms  89.464 ms\n",
            "12  208.97.177.124  88.376 ms  88.374 ms  88.437 ms\n"
          ],
          "name": "stdout"
        }
      ]
    },
    {
      "cell_type": "markdown",
      "metadata": {
        "id": "HVRW2EEwdMpC",
        "colab_type": "text"
      },
      "source": [
        "## Comment ça marche ?\n",
        "\n",
        "Chaque paquet IP a une durée de vie initiale maximum, le champs TTL (Time To Leave), qui est décrémenté au passage de chaque routeur. Lorsque le TTL atteint 0, le routeur jette le paquet à la poubelle et émet un paquet ICMP d'erreur *Time to live exceeded* vers la source. \n",
        "\n",
        "* A quoi sert le TTL ?\n",
        "* En déduire ainsi un moyen de découvrir les routeurs intermédiaires de proche en proche en incrémentant la valeur du TTL à partir de 1.\n",
        "\n",
        "=> https://fr.wikipedia.org/wiki/Traceroute\n",
        "\n",
        "=> https://en.wikipedia.org/wiki/Internet_Control_Message_Protocol\n"
      ]
    },
    {
      "cell_type": "markdown",
      "metadata": {
        "id": "I47UBjhpbYEK",
        "colab_type": "text"
      },
      "source": [
        "## Version Python/Scapy\n",
        "\n",
        "=> https://scapy.readthedocs.io/en/latest/usage.html\n",
        "\n",
        "Privilège *root* requis."
      ]
    },
    {
      "cell_type": "code",
      "metadata": {
        "id": "peoYdHeB5iV4",
        "colab_type": "code",
        "outputId": "3dfd9c1e-e918-4f28-f943-dfd860737c85",
        "colab": {
          "base_uri": "https://localhost:8080/",
          "height": 221
        }
      },
      "source": [
        "from scapy.all import *\n",
        "\n",
        "def mytraceroute(target, maxttl):\n",
        "    for k in range(1, maxttl):\n",
        "        x = IP(version=4, dst=target, ttl=k)/ICMP()\n",
        "        y = sr1(x, verbose=0)\n",
        "        if y.getlayer(ICMP).type == 11 and y.getlayer(ICMP).code == 0:    # time to leave exceeded (11)\n",
        "            print(k, y.src)\n",
        "        elif y.getlayer(ICMP).type == 0 and y.getlayer(ICMP).code == 0:   # echo-reply (0)\n",
        "            print(k, y.src)\n",
        "            break\n",
        "        else:\n",
        "            print(k, \"* * *\")\n",
        "\n",
        "\n",
        "mytraceroute(\"www.perdu.com\", 64)"
      ],
      "execution_count": 0,
      "outputs": [
        {
          "output_type": "stream",
          "text": [
            "1 172.28.0.1\n",
            "2 216.239.54.115\n",
            "3 209.85.252.121\n",
            "4 172.253.65.166\n",
            "5 209.85.254.238\n",
            "6 108.170.248.4\n",
            "7 205.197.230.37\n",
            "8 207.88.13.113\n",
            "9 209.48.43.58\n",
            "10 208.113.156.4\n",
            "11 208.113.156.14\n",
            "12 208.97.177.124\n"
          ],
          "name": "stdout"
        }
      ]
    }
  ]
}